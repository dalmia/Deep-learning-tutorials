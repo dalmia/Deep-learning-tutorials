{
 "cells": [
  {
   "cell_type": "code",
   "execution_count": 1,
   "metadata": {
    "collapsed": false
   },
   "outputs": [],
   "source": [
    "import tensorflow as tf\n",
    "import numpy as np\n",
    "import input_data"
   ]
  },
  {
   "cell_type": "code",
   "execution_count": 2,
   "metadata": {
    "collapsed": true
   },
   "outputs": [],
   "source": [
    "mnist_width = 28\n",
    "n_visible = mnist_width * mnist_width\n",
    "n_hidden = 500\n",
    "corruption_level = 0.3"
   ]
  },
  {
   "cell_type": "code",
   "execution_count": 3,
   "metadata": {
    "collapsed": false
   },
   "outputs": [],
   "source": [
    "# Create node for input data\n",
    "X  = tf.placeholder(\"float\", [None, n_visible], name='X')\n",
    "\n",
    "# Create node for corruption mask\n",
    "mask = tf.placeholder(\"float\", [None, n_visible], name='mask')\n",
    "\n",
    "# Create nodes for hidden variables\n",
    "W_init_mask = 4 * np.sqrt(6 / (n_visible + n_hidden))\n",
    "W_init = tf.random_uniform(shape=[n_visible, n_hidden], \n",
    "                           minval=-W_init_mask, maxval=W_init_mask)"
   ]
  },
  {
   "cell_type": "code",
   "execution_count": 4,
   "metadata": {
    "collapsed": true
   },
   "outputs": [],
   "source": [
    "W = tf.Variable(W_init, name='W')\n",
    "b = tf.Variable(tf.zeros([n_hidden]), name='b')"
   ]
  },
  {
   "cell_type": "code",
   "execution_count": 5,
   "metadata": {
    "collapsed": true
   },
   "outputs": [],
   "source": [
    "W_prime = tf.transpose(W)\n",
    "b_prime = tf.Variable(tf.zeros([n_visible]), name='b_prime')"
   ]
  },
  {
   "cell_type": "code",
   "execution_count": 6,
   "metadata": {
    "collapsed": false
   },
   "outputs": [],
   "source": [
    "def model(X, mask, W, b, W_prime, b_prime):\n",
    "    corrupted_X = mask * X\n",
    "    Y = tf.nn.sigmoid(tf.matmul(corrupted_X, W) + b)\n",
    "    Z = tf.nn.sigmoid(tf.matmul(Y, W_prime) + b_prime)\n",
    "    return Z"
   ]
  },
  {
   "cell_type": "code",
   "execution_count": 7,
   "metadata": {
    "collapsed": false
   },
   "outputs": [],
   "source": [
    "Z = model(X, mask, W, b, W_prime, b_prime)"
   ]
  },
  {
   "cell_type": "code",
   "execution_count": 8,
   "metadata": {
    "collapsed": true
   },
   "outputs": [],
   "source": [
    "cost = tf.reduce_sum(tf.pow(X - Z, 2))\n",
    "train_op = tf.train.GradientDescentOptimizer(0.02).minimize(cost)"
   ]
  },
  {
   "cell_type": "code",
   "execution_count": 9,
   "metadata": {
    "collapsed": false
   },
   "outputs": [
    {
     "name": "stdout",
     "output_type": "stream",
     "text": [
      "('Extracting', 'MNIST_data/train-images-idx3-ubyte.gz')\n",
      "('Succesfully downloaded', 'train-labels-idx1-ubyte.gz', 28881, 'bytes.')\n",
      "('Extracting', 'MNIST_data/train-labels-idx1-ubyte.gz')\n",
      "('Succesfully downloaded', 't10k-images-idx3-ubyte.gz', 1648877, 'bytes.')\n",
      "('Extracting', 'MNIST_data/t10k-images-idx3-ubyte.gz')\n",
      "('Succesfully downloaded', 't10k-labels-idx1-ubyte.gz', 4542, 'bytes.')\n",
      "('Extracting', 'MNIST_data/t10k-labels-idx1-ubyte.gz')\n"
     ]
    }
   ],
   "source": [
    "# Load MNIST data\n",
    "mnist = input_data.read_data_sets(\"MNIST_data/\", one_hot=True)\n",
    "trX,  trY, teX, teY = mnist.train.images, mnist.train.labels, mnist.test.images, mnist.test.labels"
   ]
  },
  {
   "cell_type": "code",
   "execution_count": null,
   "metadata": {
    "collapsed": false
   },
   "outputs": [
    {
     "name": "stdout",
     "output_type": "stream",
     "text": [
      "WARNING:tensorflow:From <ipython-input-11-6908fca61de7>:2: initialize_all_variables (from tensorflow.python.ops.variables) is deprecated and will be removed after 2017-03-02.\n",
      "Instructions for updating:\n",
      "Use `tf.global_variables_initializer` instead.\n",
      "(0, 505583.59)\n",
      "(1, 502836.91)\n",
      "(2, 500341.0)\n",
      "(3, 498558.44)\n",
      "(4, 496327.16)\n",
      "(5, 495479.44)\n",
      "(6, 494374.69)\n"
     ]
    }
   ],
   "source": [
    "with tf.Session() as sess:\n",
    "    tf.initialize_all_variables().run()\n",
    "    \n",
    "    for i in range(100):\n",
    "        for start, end in zip(range(0, len(trX), 128), range(128, len(trX), 128)):\n",
    "            input_ = trX[start:end]\n",
    "            mask_np = np.random.binomial(1, 1-corruption_level, input_.shape)\n",
    "            sess.run(train_op, feed_dict={X: input_, mask: mask_np})\n",
    "        \n",
    "        mask_np = np.random.binomial(1, 1-corruption_level, teX.shape)\n",
    "        print(i, sess.run(cost, feed_dict={X: teX, mask: mask_np}))"
   ]
  },
  {
   "cell_type": "code",
   "execution_count": null,
   "metadata": {
    "collapsed": true
   },
   "outputs": [],
   "source": []
  }
 ],
 "metadata": {
  "kernelspec": {
   "display_name": "Python 2",
   "language": "python",
   "name": "python2"
  },
  "language_info": {
   "codemirror_mode": {
    "name": "ipython",
    "version": 2
   },
   "file_extension": ".py",
   "mimetype": "text/x-python",
   "name": "python",
   "nbconvert_exporter": "python",
   "pygments_lexer": "ipython2",
   "version": "2.7.9"
  }
 },
 "nbformat": 4,
 "nbformat_minor": 2
}
