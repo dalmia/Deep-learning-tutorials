{
 "cells": [
  {
   "cell_type": "code",
   "execution_count": 1,
   "metadata": {
    "collapsed": false
   },
   "outputs": [],
   "source": [
    "import tensorflow as tf\n",
    "import numpy as np\n",
    "import input_data"
   ]
  },
  {
   "cell_type": "code",
   "execution_count": 2,
   "metadata": {
    "collapsed": true
   },
   "outputs": [],
   "source": [
    "mnist_width = 28\n",
    "n_visible = mnist_width * mnist_width\n",
    "n_hidden = 500\n",
    "corruption_level = 0.3"
   ]
  },
  {
   "cell_type": "code",
   "execution_count": 3,
   "metadata": {
    "collapsed": false
   },
   "outputs": [],
   "source": [
    "# Create node for input data\n",
    "X  = tf.placeholder(\"float\", [None, n_visible], name='X')\n",
    "\n",
    "# Create node for corruption mask\n",
    "mask = tf.placeholder(\"float\", [None, n_visible], name='mask')\n",
    "\n",
    "# Create nodes for hidden variables\n",
    "W_init_mask = 4 * np.sqrt(6 / (n_visible + n_hidden))\n",
    "W_init = tf.random_uniform(shape=[n_visible, n_hidden], \n",
    "                           minval=-W_init_mask, maxval=W_init_mask)"
   ]
  },
  {
   "cell_type": "code",
   "execution_count": 4,
   "metadata": {
    "collapsed": true
   },
   "outputs": [],
   "source": [
    "W = tf.Variable(W_init, name='W')\n",
    "b = tf.Variable(tf.zeros([n_hidden]), name='b')"
   ]
  },
  {
   "cell_type": "code",
   "execution_count": 5,
   "metadata": {
    "collapsed": true
   },
   "outputs": [],
   "source": [
    "W_prime = tf.transpose(W)\n",
    "b_prime = tf.Variable(tf.zeros([n_visible]), name='b_prime')"
   ]
  },
  {
   "cell_type": "code",
   "execution_count": 6,
   "metadata": {
    "collapsed": false
   },
   "outputs": [],
   "source": [
    "def model(X, mask, W, b, W_prime, b_prime):\n",
    "    corrupted_X = mask * X\n",
    "    Y = tf.nn.sigmoid(tf.matmul(corrupted_X, W) + b)\n",
    "    Z = tf.nn.sigmoid(tf.matmul(Y, W_prime) + b_prime)\n",
    "    return Z"
   ]
  },
  {
   "cell_type": "code",
   "execution_count": 7,
   "metadata": {
    "collapsed": false
   },
   "outputs": [],
   "source": [
    "Z = model(X, mask, W, b, W_prime, b_prime)"
   ]
  },
  {
   "cell_type": "code",
   "execution_count": 8,
   "metadata": {
    "collapsed": true
   },
   "outputs": [],
   "source": [
    "cost = tf.reduce_sum(tf.pow(X - Z, 2))\n",
    "train_op = tf.train.GradientDescentOptimizer(0.02).minimize(cost)"
   ]
  },
  {
   "cell_type": "code",
   "execution_count": 9,
   "metadata": {
    "collapsed": false
   },
   "outputs": [
    {
     "name": "stdout",
     "output_type": "stream",
     "text": [
      "('Extracting', 'MNIST_data/train-images-idx3-ubyte.gz')\n",
      "('Succesfully downloaded', 'train-labels-idx1-ubyte.gz', 28881, 'bytes.')\n",
      "('Extracting', 'MNIST_data/train-labels-idx1-ubyte.gz')\n",
      "('Succesfully downloaded', 't10k-images-idx3-ubyte.gz', 1648877, 'bytes.')\n",
      "('Extracting', 'MNIST_data/t10k-images-idx3-ubyte.gz')\n",
      "('Succesfully downloaded', 't10k-labels-idx1-ubyte.gz', 4542, 'bytes.')\n",
      "('Extracting', 'MNIST_data/t10k-labels-idx1-ubyte.gz')\n"
     ]
    }
   ],
   "source": [
    "# Load MNIST data\n",
    "mnist = input_data.read_data_sets(\"MNIST_data/\", one_hot=True)\n",
    "trX,  trY, teX, teY = mnist.train.images, mnist.train.labels, mnist.test.images, mnist.test.labels"
   ]
  },
  {
   "cell_type": "code",
   "execution_count": 11,
   "metadata": {
    "collapsed": false
   },
   "outputs": [
    {
     "name": "stdout",
     "output_type": "stream",
     "text": [
      "WARNING:tensorflow:From <ipython-input-11-6908fca61de7>:2: initialize_all_variables (from tensorflow.python.ops.variables) is deprecated and will be removed after 2017-03-02.\n",
      "Instructions for updating:\n",
      "Use `tf.global_variables_initializer` instead.\n",
      "(0, 505583.59)\n",
      "(1, 502836.91)\n",
      "(2, 500341.0)\n",
      "(3, 498558.44)\n",
      "(4, 496327.16)\n",
      "(5, 495479.44)\n",
      "(6, 494374.69)\n",
      "(7, 493492.84)\n",
      "(8, 492352.81)\n",
      "(9, 492244.88)\n",
      "(10, 491107.75)\n",
      "(11, 490933.62)\n",
      "(12, 490418.0)\n",
      "(13, 490755.72)\n",
      "(14, 490944.56)\n",
      "(15, 490520.75)\n",
      "(16, 490190.75)\n",
      "(17, 490823.75)\n",
      "(18, 490697.81)\n",
      "(19, 490691.25)\n",
      "(20, 490297.5)\n",
      "(21, 490211.31)\n",
      "(22, 490303.81)\n",
      "(23, 490060.0)\n",
      "(24, 490097.94)\n",
      "(25, 490114.44)\n",
      "(26, 490092.38)\n",
      "(27, 490031.34)\n",
      "(28, 490192.94)\n",
      "(29, 489845.59)\n",
      "(30, 489819.38)\n",
      "(31, 490107.06)\n",
      "(32, 490028.84)\n",
      "(33, 490193.38)\n",
      "(34, 490210.72)\n",
      "(35, 490401.75)\n",
      "(36, 489982.28)\n",
      "(37, 490083.38)\n",
      "(38, 490222.53)\n",
      "(39, 490196.03)\n",
      "(40, 489913.31)\n",
      "(41, 489981.38)\n",
      "(42, 490511.47)\n",
      "(43, 490186.03)\n",
      "(44, 490030.5)\n",
      "(45, 490466.5)\n",
      "(46, 489877.94)\n",
      "(47, 489803.75)\n",
      "(48, 489889.75)\n",
      "(49, 490291.69)\n",
      "(50, 489968.12)\n",
      "(51, 490049.09)\n",
      "(52, 489862.84)\n",
      "(53, 489952.69)\n",
      "(54, 490316.28)\n",
      "(55, 490211.25)\n",
      "(56, 490361.12)\n",
      "(57, 490220.66)\n",
      "(58, 490152.0)\n",
      "(59, 490367.94)\n",
      "(60, 490108.75)\n",
      "(61, 490070.41)\n",
      "(62, 490409.19)\n",
      "(63, 489934.81)\n",
      "(64, 490055.75)\n",
      "(65, 489792.66)\n",
      "(66, 490003.53)\n",
      "(67, 490090.75)\n",
      "(68, 489914.94)\n",
      "(69, 490287.69)\n",
      "(70, 490016.31)\n",
      "(71, 490097.84)\n",
      "(72, 489911.06)\n",
      "(73, 490318.0)\n",
      "(74, 489925.16)\n",
      "(75, 490153.97)\n",
      "(76, 490718.28)\n",
      "(77, 490087.19)\n",
      "(78, 490541.0)\n",
      "(79, 490243.53)\n",
      "(80, 489766.75)\n",
      "(81, 489829.84)\n",
      "(82, 489971.84)\n",
      "(83, 489940.44)\n",
      "(84, 490072.03)\n",
      "(85, 489940.06)\n",
      "(86, 490046.22)\n",
      "(87, 490133.31)\n",
      "(88, 490262.22)\n",
      "(89, 490018.56)\n",
      "(90, 489682.5)\n",
      "(91, 490181.91)\n",
      "(92, 490649.69)\n",
      "(93, 490404.31)\n",
      "(94, 489994.34)\n",
      "(95, 490134.94)\n",
      "(96, 489982.34)\n",
      "(97, 489912.06)\n",
      "(98, 490257.62)\n",
      "(99, 490204.47)\n"
     ]
    }
   ],
   "source": [
    "with tf.Session() as sess:\n",
    "    tf.initialize_all_variables().run()\n",
    "    \n",
    "    for i in range(100):\n",
    "        for start, end in zip(range(0, len(trX), 128), range(128, len(trX), 128)):\n",
    "            input_ = trX[start:end]\n",
    "            mask_np = np.random.binomial(1, 1-corruption_level, input_.shape)\n",
    "            sess.run(train_op, feed_dict={X: input_, mask: mask_np})\n",
    "        \n",
    "        mask_np = np.random.binomial(1, 1-corruption_level, teX.shape)\n",
    "        print(i, sess.run(cost, feed_dict={X: teX, mask: mask_np}))"
   ]
  },
  {
   "cell_type": "code",
   "execution_count": null,
   "metadata": {
    "collapsed": true
   },
   "outputs": [],
   "source": []
  }
 ],
 "metadata": {
  "kernelspec": {
   "display_name": "Python 2",
   "language": "python",
   "name": "python2"
  },
  "language_info": {
   "codemirror_mode": {
    "name": "ipython",
    "version": 2
   },
   "file_extension": ".py",
   "mimetype": "text/x-python",
   "name": "python",
   "nbconvert_exporter": "python",
   "pygments_lexer": "ipython2",
   "version": "2.7.9"
  }
 },
 "nbformat": 4,
 "nbformat_minor": 2
}
