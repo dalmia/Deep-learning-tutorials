{
 "cells": [
  {
   "cell_type": "code",
   "execution_count": 1,
   "metadata": {
    "collapsed": true
   },
   "outputs": [],
   "source": [
    "import tensorflow as tf\n",
    "import numpy as np"
   ]
  },
  {
   "cell_type": "code",
   "execution_count": 4,
   "metadata": {
    "collapsed": false
   },
   "outputs": [
    {
     "name": "stdout",
     "output_type": "stream",
     "text": [
      "WARNING:tensorflow:From <ipython-input-4-aea3b2b1d7ae>:21: run_n (from tensorflow.contrib.learn.python.learn.graph_actions) is deprecated and will be removed after 2017-02-15.\n",
      "Instructions for updating:\n",
      "graph_actions.py will be deleted. Use tf.train.* utilities instead. You can use learn/estimators/estimator.py as an example.\n",
      "WARNING:tensorflow:From /usr/local/lib/python2.7/dist-packages/tensorflow/contrib/learn/python/learn/graph_actions.py:842: run_feeds (from tensorflow.contrib.learn.python.learn.graph_actions) is deprecated and will be removed after 2017-02-15.\n",
      "Instructions for updating:\n",
      "graph_actions.py will be deleted. Use tf.train.* utilities instead. You can use learn/estimators/estimator.py as an example.\n",
      "WARNING:tensorflow:From /usr/local/lib/python2.7/dist-packages/tensorflow/contrib/learn/python/learn/graph_actions.py:900: run_feeds_iter (from tensorflow.contrib.learn.python.learn.graph_actions) is deprecated and will be removed after 2017-02-15.\n",
      "Instructions for updating:\n",
      "graph_actions.py will be deleted. Use tf.train.* utilities instead. You can use learn/estimators/estimator.py as an example.\n",
      "(2, 10, 64)\n",
      "[[[ -0.00000000e+00   0.00000000e+00   2.78174974e-04 ...,   3.88335649e-04\n",
      "    -0.00000000e+00  -3.48400008e-04]\n",
      "  [ -6.60721613e-05   2.85541973e-03   0.00000000e+00 ...,  -0.00000000e+00\n",
      "    -1.02080915e-03   0.00000000e+00]\n",
      "  [  4.44746219e-04   3.91144036e-03   2.21144101e-03 ...,   8.85649202e-04\n",
      "    -1.69248839e-03   3.45687611e-04]\n",
      "  ..., \n",
      "  [ -2.02732444e-03  -0.00000000e+00  -0.00000000e+00 ...,  -0.00000000e+00\n",
      "    -8.38021648e-03   0.00000000e+00]\n",
      "  [ -2.22468233e-03  -0.00000000e+00  -0.00000000e+00 ...,  -6.96588517e-03\n",
      "    -1.06319651e-02   9.54364928e-03]\n",
      "  [ -5.32890387e-03  -0.00000000e+00  -9.06151506e-03 ...,  -0.00000000e+00\n",
      "    -9.41342229e-03   0.00000000e+00]]\n",
      "\n",
      " [[ -7.34422262e-04   0.00000000e+00  -5.12083186e-04 ...,   0.00000000e+00\n",
      "    -1.04272321e-03  -0.00000000e+00]\n",
      "  [  4.56696020e-04  -0.00000000e+00  -0.00000000e+00 ...,  -0.00000000e+00\n",
      "    -0.00000000e+00  -1.70083600e-03]\n",
      "  [  0.00000000e+00  -3.69690255e-03  -8.28981375e-04 ...,   0.00000000e+00\n",
      "    -2.50530485e-03   0.00000000e+00]\n",
      "  ..., \n",
      "  [  0.00000000e+00   0.00000000e+00   0.00000000e+00 ...,   0.00000000e+00\n",
      "     0.00000000e+00   0.00000000e+00]\n",
      "  [  0.00000000e+00   0.00000000e+00   0.00000000e+00 ...,   0.00000000e+00\n",
      "     0.00000000e+00   0.00000000e+00]\n",
      "  [  0.00000000e+00   0.00000000e+00   0.00000000e+00 ...,   0.00000000e+00\n",
      "     0.00000000e+00   0.00000000e+00]]]\n",
      "(2, 64)\n",
      "[[-0.06954677  0.11548515 -0.10837594 -0.05882931  0.06845592 -0.0099999\n",
      "   0.13673612 -0.01271812 -0.15804524 -0.00865646  0.11839944  0.09138283\n",
      "   0.00041945 -0.1810899   0.04134423 -0.08209074  0.07656427  0.02839872\n",
      "  -0.11748117  0.07765273 -0.01018896 -0.06087109  0.0256467  -0.02728095\n",
      "   0.0477981  -0.13497434 -0.00552018 -0.12613657 -0.10837214  0.13173289\n",
      "  -0.04553173 -0.10916288 -0.0359862  -0.01052904 -0.06916432  0.01856066\n",
      "  -0.03567023 -0.06586846 -0.17975713  0.03231126 -0.05377418  0.00535517\n",
      "  -0.08345105  0.11498076 -0.10178664 -0.03144006  0.09171762 -0.01822477\n",
      "   0.00806139 -0.04767693 -0.11404977 -0.00966512 -0.10145152  0.06386581\n",
      "   0.05414488  0.0063444  -0.09047457  0.06310876 -0.1160554  -0.00319852\n",
      "   0.10409487  0.03334113 -0.09336445  0.09435734]\n",
      " [ 0.01639752  0.15272362  0.15601515  0.04816833  0.23285501 -0.10015422\n",
      "  -0.0966219  -0.05249547  0.0689018  -0.01165482 -0.10453411 -0.06324832\n",
      "   0.15949334  0.09737    -0.01527609 -0.00636081  0.01908842 -0.09003698\n",
      "   0.09504275  0.03323873 -0.07257376 -0.00456346 -0.07143219 -0.01698012\n",
      "  -0.03607902  0.04571981 -0.20564868  0.1089349   0.02853302  0.00828381\n",
      "  -0.18284643  0.14379055  0.02312572  0.03975506  0.10645776 -0.10938295\n",
      "  -0.07470948  0.14956479 -0.11151141  0.05492629  0.01423529 -0.08920107\n",
      "   0.15678666 -0.06678005  0.0690048  -0.02380499  0.13402332  0.16586771\n",
      "  -0.10000016  0.04054677  0.18209576  0.04894368  0.1607425   0.05914828\n",
      "   0.19053237 -0.04495755 -0.11942778  0.06937077 -0.02403807 -0.10169679\n",
      "   0.06253514 -0.05471725  0.04443501  0.04427625]]\n"
     ]
    }
   ],
   "source": [
    "tf.reset_default_graph()\n",
    "\n",
    "X = np.random.randn(2, 10, 8)\n",
    "\n",
    "X[1, 6:] = 0\n",
    "X_lengths = [10, 6]\n",
    "\n",
    "cell = tf.contrib.rnn.core_rnn_cell.LSTMCell(num_units=64, state_is_tuple=True)\n",
    "cell = tf.contrib.rnn.core_rnn_cell.DropoutWrapper(cell=cell, output_keep_prob=0.5)\n",
    "cell = tf.contrib.rnn.core_rnn_cell.MultiRNNCell(cells=[cell] * 4, state_is_tuple=True)\n",
    "\n",
    "outputs, last_states = tf.nn.dynamic_rnn(\n",
    "    cell=cell,\n",
    "    dtype=tf.float64,\n",
    "    sequence_length=X_lengths,\n",
    "    inputs=X)\n",
    "\n",
    "result = tf.contrib.learn.run_n(\n",
    "    {\"outputs\": outputs, \"last_states\": last_states},\n",
    "    n=1,\n",
    "    feed_dict=None)\n",
    "\n",
    "\n",
    "print(result[0][\"outputs\"].shape)\n",
    "print(result[0][\"outputs\"])\n",
    "assert result[0][\"outputs\"].shape == (2, 10, 64)\n",
    "\n",
    "# Outputs for the second example past past length 6 should be 0\n",
    "assert (result[0][\"outputs\"][1,7,:] == np.zeros(cell.output_size)).all()\n",
    "\n",
    "print(result[0][\"last_states\"][0].h.shape)\n",
    "print(result[0][\"last_states\"][0].h)"
   ]
  },
  {
   "cell_type": "code",
   "execution_count": null,
   "metadata": {
    "collapsed": true
   },
   "outputs": [],
   "source": []
  }
 ],
 "metadata": {
  "kernelspec": {
   "display_name": "Python 2",
   "language": "python",
   "name": "python2"
  },
  "language_info": {
   "codemirror_mode": {
    "name": "ipython",
    "version": 2
   },
   "file_extension": ".py",
   "mimetype": "text/x-python",
   "name": "python",
   "nbconvert_exporter": "python",
   "pygments_lexer": "ipython2",
   "version": "2.7.9"
  }
 },
 "nbformat": 4,
 "nbformat_minor": 2
}
