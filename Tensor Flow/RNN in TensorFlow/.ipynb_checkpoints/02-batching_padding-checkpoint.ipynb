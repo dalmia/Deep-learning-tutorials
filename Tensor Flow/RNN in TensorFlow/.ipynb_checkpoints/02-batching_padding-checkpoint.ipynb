{
 "cells": [
  {
   "cell_type": "code",
   "execution_count": 1,
   "metadata": {
    "collapsed": true
   },
   "outputs": [],
   "source": [
    "import tensorflow as tf"
   ]
  },
  {
   "cell_type": "code",
   "execution_count": 5,
   "metadata": {
    "collapsed": false
   },
   "outputs": [
    {
     "name": "stdout",
     "output_type": "stream",
     "text": [
      "Tensor(\"y:0\", shape=(?,), dtype=int32)\n"
     ]
    }
   ],
   "source": [
    "# Example with tf.train.batch dynamic padding\n",
    "\n",
    "tf.reset_default_graph()\n",
    "\n",
    "# Create a tensor [0, 1, 2, 3, 4, ...]\n",
    "x = tf.range(0, 10, name='x')\n",
    "\n",
    "# A queue that outputs 0, 1, 2, 3, ...\n",
    "range_q = tf.train.range_input_producer(limit=5, shuffle=False)\n",
    "slice_end = range_q.dequeue()\n",
    "\n",
    "# Slice x to variable length, i.e. [0], [0, 1], [0, 1, 2], ..\n",
    "y = tf.slice(x, [0], [slice_end], name='y')\n",
    "\n",
    "print(y)\n"
   ]
  },
  {
   "cell_type": "code",
   "execution_count": 8,
   "metadata": {
    "collapsed": false
   },
   "outputs": [
    {
     "name": "stdout",
     "output_type": "stream",
     "text": [
      "Tensor(\"y_batch_2:0\", shape=(5, ?), dtype=int32)\n"
     ]
    }
   ],
   "source": [
    "# Batch the variable length tensor with dynamic padding\n",
    "batched_data = tf.train.batch(\n",
    "    tensors=[y],\n",
    "    batch_size=5,\n",
    "    dynamic_pad=True,\n",
    "    name='y_batch'\n",
    ")\n",
    "\n",
    "print(batched_data)"
   ]
  },
  {
   "cell_type": "code",
   "execution_count": 11,
   "metadata": {
    "collapsed": false
   },
   "outputs": [
    {
     "name": "stdout",
     "output_type": "stream",
     "text": [
      "WARNING:tensorflow:From <ipython-input-11-392fae005bce>:2: run_n (from tensorflow.contrib.learn.python.learn.graph_actions) is deprecated and will be removed after 2017-02-15.\n",
      "Instructions for updating:\n",
      "graph_actions.py will be deleted. Use tf.train.* utilities instead. You can use learn/estimators/estimator.py as an example.\n",
      "WARNING:tensorflow:From /usr/local/lib/python2.7/dist-packages/tensorflow/contrib/learn/python/learn/graph_actions.py:842: run_feeds (from tensorflow.contrib.learn.python.learn.graph_actions) is deprecated and will be removed after 2017-02-15.\n",
      "Instructions for updating:\n",
      "graph_actions.py will be deleted. Use tf.train.* utilities instead. You can use learn/estimators/estimator.py as an example.\n",
      "WARNING:tensorflow:From /usr/local/lib/python2.7/dist-packages/tensorflow/contrib/learn/python/learn/graph_actions.py:900: run_feeds_iter (from tensorflow.contrib.learn.python.learn.graph_actions) is deprecated and will be removed after 2017-02-15.\n",
      "Instructions for updating:\n",
      "graph_actions.py will be deleted. Use tf.train.* utilities instead. You can use learn/estimators/estimator.py as an example.\n",
      "Batch shape: (5, 3)\n",
      "[[0 0 0]\n",
      " [0 1 2]\n",
      " [0 0 0]\n",
      " [0 1 2]\n",
      " [0 0 0]]\n"
     ]
    }
   ],
   "source": [
    "# Run the graph\n",
    "res = tf.contrib.learn.run_n({'y': batched_data}, n=1, feed_dict=None)\n",
    "\n",
    "# Print the result\n",
    "print(\"Batch shape: {}\".format(res[0][\"y\"].shape))\n",
    "print(res[0][\"y\"])"
   ]
  },
  {
   "cell_type": "code",
   "execution_count": null,
   "metadata": {
    "collapsed": true
   },
   "outputs": [],
   "source": []
  }
 ],
 "metadata": {
  "kernelspec": {
   "display_name": "Python 2",
   "language": "python",
   "name": "python2"
  },
  "language_info": {
   "codemirror_mode": {
    "name": "ipython",
    "version": 2
   },
   "file_extension": ".py",
   "mimetype": "text/x-python",
   "name": "python",
   "nbconvert_exporter": "python",
   "pygments_lexer": "ipython2",
   "version": "2.7.9"
  }
 },
 "nbformat": 4,
 "nbformat_minor": 2
}
